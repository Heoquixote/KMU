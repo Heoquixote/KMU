{
 "cells": [
  {
   "cell_type": "markdown",
   "id": "49877851",
   "metadata": {},
   "source": [
    " ## <span style=\"color:#004f9f\"> 1. 거스름돈을 알려주는 프로그램 </span>"
   ]
  },
  {
   "cell_type": "markdown",
   "id": "a8affe3b",
   "metadata": {},
   "source": [
    "- 사용자가 물건의 가격과 지불한 금액을 입력\n",
    "- 물건 가격과 지불한 금액은 100원 단위\n",
    "- 거스름돈을 계산해주되 동전의 개수는 최대한 적게\n",
    "- 거스름돈은 500원, 100원짜리로만 계산"
   ]
  },
  {
   "cell_type": "code",
   "execution_count": 1,
   "id": "3cd04c71",
   "metadata": {},
   "outputs": [],
   "source": [
    "price = int(input('물건의 가격을 입력하세요:'))\n",
    "pay = int(input('지불한 금액을 입력하세요:'))"
   ]
  },
  {
   "cell_type": "code",
   "execution_count": 15,
   "id": "23ed4c9b",
   "metadata": {},
   "outputs": [
    {
     "name": "stdout",
     "output_type": "stream",
     "text": [
      "500원짜리 동전 개수:  3\n",
      "100원짜리 동전 개수:  2\n"
     ]
    }
   ],
   "source": [
    "##거스름돈 알려주는 프로그램\n",
    "\n",
    "price = int(input('물건의 가격을 입력하세요:'))\n",
    "pay = int(input('지불한 금액을 입력하세요:'))\n",
    "\n",
    "def calculate_change(price, pay):\n",
    "    change = pay - price  # 거스름돈\n",
    "    x = change // 500  # 500원짜리 동전 개수\n",
    "    change %= 500  # 나머지 거스름돈\n",
    "    y = change // 100  # 100원짜리 동전 개수    \n",
    "    return (x, y)  # 결과 반환\n",
    "\n",
    "# 거스름돈 계산 및 출력\n",
    "x, y = calculate_change(price, pay)\n",
    "print(\"500원짜리 동전 개수: \", x)\n",
    "print(\"100원짜리 동전 개수: \", y)"
   ]
  },
  {
   "cell_type": "markdown",
   "id": "4ccdf38e",
   "metadata": {},
   "source": [
    " ## <span style=\"color:#004f9f\"> 2. 자료구조 인덱싱과 슬라이싱 </span>"
   ]
  },
  {
   "cell_type": "markdown",
   "id": "42a01ee0",
   "metadata": {},
   "source": [
    "- 다음의 (과일이름, 과일개수) 튜플로 구성된 리스트를 활용하여 다음의 문항을 해결하세요"
   ]
  },
  {
   "cell_type": "code",
   "execution_count": 17,
   "id": "b59d8ac6",
   "metadata": {},
   "outputs": [],
   "source": [
    "import numpy as np\n",
    "\n",
    "fruit = [('apple', np.random.randint(1,11)), \n",
    "         ('banana', np.random.randint(1,11)),\n",
    "         ('cherry', np.random.randint(1,11)),\n",
    "         ('grape', np.random.randint(1,11)),\n",
    "         ('orange', np.random.randint(1,11)),\n",
    "         ('strawberry', np.random.randint(1,11)),\n",
    "         ('melon', np.random.randint(1,11))]"
   ]
  },
  {
   "cell_type": "markdown",
   "id": "2144ac11",
   "metadata": {},
   "source": [
    "**문항1]** fruit의 마지막 두 개 튜플(tuple)을 출력하세요."
   ]
  },
  {
   "cell_type": "code",
   "execution_count": 26,
   "id": "e3006218",
   "metadata": {},
   "outputs": [
    {
     "name": "stdout",
     "output_type": "stream",
     "text": [
      "[('strawberry', 3), ('melon', 9)]\n"
     ]
    }
   ],
   "source": [
    "print(fruit[-2:])"
   ]
  },
  {
   "cell_type": "markdown",
   "id": "4d94204e",
   "metadata": {},
   "source": [
    "**문항2]** fruit리스트에서 'cherry'와 그 개수를 각각 출력하세요."
   ]
  },
  {
   "cell_type": "code",
   "execution_count": 30,
   "id": "f3f1c5be",
   "metadata": {},
   "outputs": [
    {
     "name": "stdout",
     "output_type": "stream",
     "text": [
      "cherry 5\n"
     ]
    }
   ],
   "source": [
    "print(fruit[2][0],fruit[2][1])"
   ]
  },
  {
   "cell_type": "markdown",
   "id": "51433f83",
   "metadata": {},
   "source": [
    "**문항3]** 'melon'이 3개 있는지 확인하세요. 있다면 True, 없다면 False를 출력하세요."
   ]
  },
  {
   "cell_type": "code",
   "execution_count": 36,
   "id": "083072df",
   "metadata": {},
   "outputs": [
    {
     "name": "stdout",
     "output_type": "stream",
     "text": [
      "False\n"
     ]
    }
   ],
   "source": [
    "if fruit[-1][1]==3:\n",
    "    print(True)\n",
    "else:\n",
    "    print(False)"
   ]
  },
  {
   "cell_type": "markdown",
   "id": "9e49a2cc",
   "metadata": {},
   "source": [
    " ## <span style=\"color:#004f9f\"> 3. 영한사전 프로그램 </span>"
   ]
  },
  {
   "cell_type": "markdown",
   "id": "89289522",
   "metadata": {},
   "source": [
    "- 다음의 사전을 이용하여 사용자가 영어단어를 입력하면, 맞는 한글단어를 출력하는 프로그램\n",
    "- 사전에 단어가 없다면 '사전에 없는 단어'를 출력"
   ]
  },
  {
   "cell_type": "code",
   "execution_count": null,
   "id": "1676ab7f",
   "metadata": {},
   "outputs": [],
   "source": [
    "my_dict = {'boy':'소년',\n",
    "           'girl':'소녀',\n",
    "           'milk':'우유',\n",
    "           'pencil':'연필'}"
   ]
  },
  {
   "cell_type": "code",
   "execution_count": 39,
   "id": "595f03bd",
   "metadata": {},
   "outputs": [
    {
     "name": "stdout",
     "output_type": "stream",
     "text": [
      "사전에 없는 단어\n"
     ]
    }
   ],
   "source": [
    "my_dict = {'boy':'소년',\n",
    "           'girl':'소녀',\n",
    "           'milk':'우유',\n",
    "           'pencil':'연필'}\n",
    "\n",
    "word = input(\"영어 단어를 입력하세요: \") #단어 입력\n",
    "\n",
    "print(my_dict.get(word, \"사전에 없는 단어\"))"
   ]
  },
  {
   "cell_type": "markdown",
   "id": "ed9cc43b",
   "metadata": {},
   "source": [
    " ## <span style=\"color:#004f9f\"> 4. 편의점 재고 관리 프로그램 </span>"
   ]
  },
  {
   "cell_type": "markdown",
   "id": "a5592df9",
   "metadata": {},
   "source": [
    "- 재고 상황은 다음과 같이 items 변수에 저장\n",
    "- 현재 재고 상황을 출력\n",
    "- 사용자가 판매한 물건명과 수량을 입력하면, 재고 상황에서 해당 물건과 수량만큼 빼준 뒤 판매 후 제고 출력"
   ]
  },
  {
   "cell_type": "code",
   "execution_count": 46,
   "id": "1d04a1d9",
   "metadata": {},
   "outputs": [],
   "source": [
    "items = {'커피':10,\n",
    "         '우유':5,\n",
    "         '라면':8,\n",
    "         '콜라':4}"
   ]
  },
  {
   "cell_type": "code",
   "execution_count": 51,
   "id": "ddc72694",
   "metadata": {},
   "outputs": [
    {
     "name": "stdout",
     "output_type": "stream",
     "text": [
      "현재 재고:\n",
      "{'커피': 10, '우유': 5, '라면': 8, '콜라': 4}\n",
      "재고보다 판매수량이 많습니다.\n"
     ]
    }
   ],
   "source": [
    "items = {'커피':10,\n",
    "         '우유':5,\n",
    "         '라면':8,\n",
    "         '콜라':4}\n",
    "\n",
    "# 현재 재고 상황 출력\n",
    "print(\"현재 재고:\")\n",
    "print(items)\n",
    "\n",
    "# 사용자가 판매한 물건명과 수량 입력\n",
    "item_sale = input(\"판매 물품: \")\n",
    "quantity_sale = int(input(\"수량: \"))\n",
    "\n",
    "# 재고 상황에서 해당 물건과 수량만큼 빼기\n",
    "if item_sale in items:\n",
    "    if items[item_sale] >= quantity_sale:\n",
    "        items[item_sale] -= quantity_sale\n",
    "        # 재고 상황 출력\n",
    "        print(\"현재 재고:\")\n",
    "        print(items)\n",
    "    else:\n",
    "        print(\"재고보다 판매수량이 많습니다.\")\n",
    "else:\n",
    "    print(\"물건이 재고에 없습니다\")\n",
    "    # 재고 상황 출력\n",
    "    print(\"현재 재고:\")\n",
    "    print(items)"
   ]
  }
 ],
 "metadata": {
  "kernelspec": {
   "display_name": "Python 3 (ipykernel)",
   "language": "python",
   "name": "python3"
  },
  "language_info": {
   "codemirror_mode": {
    "name": "ipython",
    "version": 3
   },
   "file_extension": ".py",
   "mimetype": "text/x-python",
   "name": "python",
   "nbconvert_exporter": "python",
   "pygments_lexer": "ipython3",
   "version": "3.10.10"
  }
 },
 "nbformat": 4,
 "nbformat_minor": 5
}

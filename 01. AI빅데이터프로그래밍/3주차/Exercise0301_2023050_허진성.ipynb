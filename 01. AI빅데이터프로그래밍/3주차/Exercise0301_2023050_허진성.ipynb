{
 "cells": [
  {
   "cell_type": "markdown",
   "id": "4ccdf38e",
   "metadata": {},
   "source": [
    " ## <span style=\"color:#004f9f\"> 1. 자료 구조 심화 </span>"
   ]
  },
  {
   "cell_type": "markdown",
   "id": "42a01ee0",
   "metadata": {},
   "source": [
    "- 다음의 (과일이름, 과일개수) 튜플로 구성된 리스트를 활용하여 다음의 문항을 해결하세요"
   ]
  },
  {
   "cell_type": "code",
   "execution_count": null,
   "id": "b59d8ac6",
   "metadata": {},
   "outputs": [],
   "source": [
    "import numpy as np\n",
    "\n",
    "fruit = [('apple', np.random.randint(1,11)), \n",
    "         ('banana', np.random.randint(1,11)),\n",
    "         ('cherry', np.random.randint(1,11)),\n",
    "         ('grape', np.random.randint(1,11)),\n",
    "         ('orange', np.random.randint(1,11)),\n",
    "         ('strawberry', np.random.randint(1,11)),\n",
    "         ('melon', np.random.randint(1,11))]"
   ]
  },
  {
   "cell_type": "markdown",
   "id": "2144ac11",
   "metadata": {},
   "source": [
    "**문항1]** fruit 리스트의 홀수번째 인덱스의 튜플만을 담은 fruit02 리스트를 만들고 출력하세요."
   ]
  },
  {
   "cell_type": "code",
   "execution_count": 2,
   "id": "af3d7178",
   "metadata": {},
   "outputs": [
    {
     "ename": "NameError",
     "evalue": "name 'fruit' is not defined",
     "output_type": "error",
     "traceback": [
      "\u001b[1;31m---------------------------------------------------------------------------\u001b[0m",
      "\u001b[1;31mNameError\u001b[0m                                 Traceback (most recent call last)",
      "Cell \u001b[1;32mIn[2], line 1\u001b[0m\n\u001b[1;32m----> 1\u001b[0m \u001b[39menumerate\u001b[39m(fruit)\n",
      "\u001b[1;31mNameError\u001b[0m: name 'fruit' is not defined"
     ]
    }
   ],
   "source": [
    "enumerate(fruit)"
   ]
  },
  {
   "cell_type": "code",
   "execution_count": null,
   "id": "e3006218",
   "metadata": {},
   "outputs": [],
   "source": [
    "enumerate"
   ]
  },
  {
   "cell_type": "markdown",
   "id": "4d94204e",
   "metadata": {},
   "source": [
    "**문항2]** sum()함수를 사용하지 않고  fruit 리스트의 과일 개수의 합을 구하세요."
   ]
  },
  {
   "cell_type": "code",
   "execution_count": null,
   "id": "f3f1c5be",
   "metadata": {},
   "outputs": [],
   "source": []
  },
  {
   "cell_type": "markdown",
   "id": "a202390b",
   "metadata": {},
   "source": [
    "**문항3]** sort()함수를 사용하지 않고 fruit리스트를 과일명순으로 정렬하여 fruit03리스트를 만드세요."
   ]
  },
  {
   "cell_type": "code",
   "execution_count": 2,
   "id": "3efc1e75",
   "metadata": {},
   "outputs": [
    {
     "name": "stdout",
     "output_type": "stream",
     "text": [
      "[('apple', 9), ('banana', 9), ('cherry', 4), ('grape', 6), ('melon', 10), ('orange', 1), ('strawberry', 8)]\n"
     ]
    }
   ],
   "source": [
    "for i in range(len(fruit)):\n",
    "    for j in range(i+1, len(fruit)):\n",
    "        if fruit[i][0] > fruit[j][0]:\n",
    "            fruit[i], fruit[j] = fruit[j], fruit[i]\n",
    "\n",
    "fruit03 = fruit\n",
    "print(fruit03)"
   ]
  },
  {
   "cell_type": "markdown",
   "id": "fe03ed3f",
   "metadata": {},
   "source": [
    "- 다음의 alist, blist를 활용하여 다음의 문항을 해결하세요."
   ]
  },
  {
   "cell_type": "markdown",
   "id": "2237fb63",
   "metadata": {},
   "source": [
    "**문항4]** alist의 값을 key로 blist의 값을 value로 하는 dictionary를 생성하여 my_dict에 저장하세요."
   ]
  },
  {
   "cell_type": "code",
   "execution_count": null,
   "id": "6b0ec2a2",
   "metadata": {},
   "outputs": [],
   "source": [
    "alist = ['Korean', 'English', 'Math']\n",
    "blist = ['100', '90', '80']\n",
    "a를 key, b를 value"
   ]
  },
  {
   "cell_type": "markdown",
   "id": "49877851",
   "metadata": {},
   "source": [
    " ## <span style=\"color:#004f9f\"> 2. 무작위로 4자리 숫자 생성하기 </span>"
   ]
  },
  {
   "cell_type": "markdown",
   "id": "a8affe3b",
   "metadata": {},
   "source": [
    "- 무작위의 4자리 숫자를 생성하는 프로그램\n",
    "- 단, 각 자리의 숫자가 모두 다르도록 생성\n",
    "- 예: 1234(O), 1222(X)\n",
    "- *[hint]* np.random.randint(시작위치, 끝위치)를 사용하면 해당 범위의 무작위값 생성(단, 끝위치는 포함하지 않음)"
   ]
  },
  {
   "cell_type": "code",
   "execution_count": 3,
   "id": "4b87d76f",
   "metadata": {},
   "outputs": [
    {
     "data": {
      "text/plain": [
       "2"
      ]
     },
     "execution_count": 3,
     "metadata": {},
     "output_type": "execute_result"
    }
   ],
   "source": [
    "import numpy as np\n",
    "a = np.random.randint(1, 10)\n",
    "#각 자리수가 달라야 함"
   ]
  },
  {
   "cell_type": "markdown",
   "id": "9e49a2cc",
   "metadata": {},
   "source": [
    " ## <span style=\"color:#004f9f\"> 3. 숫자맞추기 야구게임 </span>"
   ]
  },
  {
   "cell_type": "markdown",
   "id": "89289522",
   "metadata": {},
   "source": [
    "- 프로그램이 시작되면 컴퓨터는 무작위로 모든 자리수의 숫자가 다른 4자리 숫자를 생성(2번 과제 활용)\n",
    "- 사용자는 4자리 숫자를 입력 : 4자리 숫자가 아닌 경우 다시 입력받음\n",
    "- 숫자가 전부 틀리면 '아웃'\n",
    "- 위치와 숫자가 모두 맞으면 S\n",
    "- 숫자는 맞지만 위치가 틀리면 B\n",
    "- 예시) 정답이 1234\n",
    "    - 사용자가 7892 입력 -> 1B\n",
    "    - 사용자가 1582 입력 -> 1S1B"
   ]
  },
  {
   "cell_type": "code",
   "execution_count": null,
   "id": "083072df",
   "metadata": {},
   "outputs": [],
   "source": []
  }
 ],
 "metadata": {
  "kernelspec": {
   "display_name": "Python 3 (ipykernel)",
   "language": "python",
   "name": "python3"
  },
  "language_info": {
   "codemirror_mode": {
    "name": "ipython",
    "version": 3
   },
   "file_extension": ".py",
   "mimetype": "text/x-python",
   "name": "python",
   "nbconvert_exporter": "python",
   "pygments_lexer": "ipython3",
   "version": "3.10.10"
  }
 },
 "nbformat": 4,
 "nbformat_minor": 5
}

{
 "cells": [
  {
   "cell_type": "markdown",
   "id": "c7baec8a",
   "metadata": {},
   "source": [
    " ## <span style=\"color:#004f9f\"> 1. 함수 연습 </span>"
   ]
  },
  {
   "cell_type": "markdown",
   "id": "51d91069",
   "metadata": {},
   "source": [
    "**문항1]** 다음 2개의 행렬을 더하는 함수 my_addition을 작성하여 다음과 같이 정상적으로 출력되도록 하세요.\n",
    "\n",
    "[[4, 9], [7, 4]]"
   ]
  },
  {
   "cell_type": "code",
   "execution_count": null,
   "id": "b5c11f1e",
   "metadata": {},
   "outputs": [],
   "source": [
    "def my_addtion(x, y):\n",
    "    \n",
    "\n",
    "\n",
    "matrix_x = [[2,5], [2,1]]\n",
    "matrix_y = [[2,4], [5,3]]\n",
    "my_addtion(matrix_x, matrix_y)"
   ]
  },
  {
   "cell_type": "markdown",
   "id": "4b7bc640",
   "metadata": {},
   "source": [
    "**문항2]** FizzBuzz 함수 만들기\n",
    "- 시작값과 끝값을 인자로 받는 함수\n",
    "- 시작값부터 끝값까지 순서대로 출력\n",
    "- 3의 배수인 경우는 Fizz 출력\n",
    "- 5의 배수인 경우는 Buzz 출력\n",
    "- 15의 배수인 경우는 FizzBuzz출력\n",
    "- 예] 1, 16을 입력한 경우 : 1 2 Fizz 4 Buzz Fizz 7 8 Fizz 10 11 Fizz 13 14 FizzBuzz 16"
   ]
  },
  {
   "cell_type": "code",
   "execution_count": null,
   "id": "c513e617",
   "metadata": {},
   "outputs": [],
   "source": []
  },
  {
   "cell_type": "markdown",
   "id": "24c6a8fa",
   "metadata": {},
   "source": [
    " ## <span style=\"color:#004f9f\"> 2. 구구단 계산기 VER02 </span>\n",
    " - 사용자가 원하는 구구단을 출력\n",
    " - 1~9단이 아닌 경우에는 재입력\n",
    " - 숫자를 입력하지 않은 경우에는 재입력\n",
    " - 0을 입력할 경우 종료"
   ]
  },
  {
   "cell_type": "code",
   "execution_count": null,
   "id": "c584aaa8",
   "metadata": {},
   "outputs": [],
   "source": []
  }
 ],
 "metadata": {
  "kernelspec": {
   "display_name": "Python 3 (ipykernel)",
   "language": "python",
   "name": "python3"
  },
  "language_info": {
   "codemirror_mode": {
    "name": "ipython",
    "version": 3
   },
   "file_extension": ".py",
   "mimetype": "text/x-python",
   "name": "python",
   "nbconvert_exporter": "python",
   "pygments_lexer": "ipython3",
   "version": "3.9.13"
  }
 },
 "nbformat": 4,
 "nbformat_minor": 5
}
